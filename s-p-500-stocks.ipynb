{
 "cells": [
  {
   "cell_type": "code",
   "execution_count": 1,
   "id": "95912032",
   "metadata": {
    "_cell_guid": "b1076dfc-b9ad-4769-8c92-a6c4dae69d19",
    "_uuid": "8f2839f25d086af736a60e9eeb907d3b93b6e0e5",
    "execution": {
     "iopub.execute_input": "2025-03-13T01:33:07.039612Z",
     "iopub.status.busy": "2025-03-13T01:33:07.039221Z",
     "iopub.status.idle": "2025-03-13T01:33:08.020061Z",
     "shell.execute_reply": "2025-03-13T01:33:08.018707Z"
    },
    "papermill": {
     "duration": 0.987642,
     "end_time": "2025-03-13T01:33:08.022439",
     "exception": false,
     "start_time": "2025-03-13T01:33:07.034797",
     "status": "completed"
    },
    "tags": []
   },
   "outputs": [
    {
     "name": "stdout",
     "output_type": "stream",
     "text": [
      "/kaggle/input/sp-500-stocks/sp500_stocks.csv\n",
      "/kaggle/input/sp-500-stocks/sp500_companies.csv\n",
      "/kaggle/input/sp-500-stocks/sp500_index.csv\n"
     ]
    }
   ],
   "source": [
    "# This Python 3 environment comes with many helpful analytics libraries installed\n",
    "# It is defined by the kaggle/python Docker image: https://github.com/kaggle/docker-python\n",
    "# For example, here's several helpful packages to load\n",
    "\n",
    "import numpy as np # linear algebra\n",
    "import pandas as pd # data processing, CSV file I/O (e.g. pd.read_csv)\n",
    "\n",
    "# Input data files are available in the read-only \"../input/\" directory\n",
    "# For example, running this (by clicking run or pressing Shift+Enter) will list all files under the input directory\n",
    "\n",
    "import os\n",
    "for dirname, _, filenames in os.walk('/kaggle/input'):\n",
    "    for filename in filenames:\n",
    "        print(os.path.join(dirname, filename))\n",
    "\n",
    "# You can write up to 20GB to the current directory (/kaggle/working/) that gets preserved as output when you create a version using \"Save & Run All\" \n",
    "# You can also write temporary files to /kaggle/temp/, but they won't be saved outside of the current session"
   ]
  },
  {
   "cell_type": "code",
   "execution_count": 2,
   "id": "e5329537",
   "metadata": {
    "execution": {
     "iopub.execute_input": "2025-03-13T01:33:08.029693Z",
     "iopub.status.busy": "2025-03-13T01:33:08.029133Z",
     "iopub.status.idle": "2025-03-13T01:33:10.678974Z",
     "shell.execute_reply": "2025-03-13T01:33:10.677802Z"
    },
    "papermill": {
     "duration": 2.655007,
     "end_time": "2025-03-13T01:33:10.680844",
     "exception": false,
     "start_time": "2025-03-13T01:33:08.025837",
     "status": "completed"
    },
    "tags": []
   },
   "outputs": [],
   "source": [
    "import pandas as pd\n",
    "\n",
    "# Load the CSV files into DataFrames\n",
    "stocks_df = pd.read_csv('/kaggle/input/sp-500-stocks/sp500_stocks.csv')\n",
    "companies_df = pd.read_csv('/kaggle/input/sp-500-stocks/sp500_companies.csv')\n",
    "index_df = pd.read_csv('/kaggle/input/sp-500-stocks/sp500_index.csv')"
   ]
  },
  {
   "cell_type": "code",
   "execution_count": 3,
   "id": "3ed68b78",
   "metadata": {
    "execution": {
     "iopub.execute_input": "2025-03-13T01:33:10.687456Z",
     "iopub.status.busy": "2025-03-13T01:33:10.687030Z",
     "iopub.status.idle": "2025-03-13T01:33:11.113313Z",
     "shell.execute_reply": "2025-03-13T01:33:11.111817Z"
    },
    "papermill": {
     "duration": 0.431728,
     "end_time": "2025-03-13T01:33:11.115350",
     "exception": false,
     "start_time": "2025-03-13T01:33:10.683622",
     "status": "completed"
    },
    "tags": []
   },
   "outputs": [
    {
     "name": "stdout",
     "output_type": "stream",
     "text": [
      "Stocks DataFrame:\n",
      "         Date Symbol  Adj Close  Close  High  Low  Open  Volume\n",
      "0  2010-01-04    MMM        NaN    NaN   NaN  NaN   NaN     NaN\n",
      "1  2010-01-05    MMM        NaN    NaN   NaN  NaN   NaN     NaN\n",
      "2  2010-01-06    MMM        NaN    NaN   NaN  NaN   NaN     NaN\n",
      "3  2010-01-07    MMM        NaN    NaN   NaN  NaN   NaN     NaN\n",
      "4  2010-01-08    MMM        NaN    NaN   NaN  NaN   NaN     NaN\n",
      "<class 'pandas.core.frame.DataFrame'>\n",
      "RangeIndex: 1891536 entries, 0 to 1891535\n",
      "Data columns (total 8 columns):\n",
      " #   Column     Dtype  \n",
      "---  ------     -----  \n",
      " 0   Date       object \n",
      " 1   Symbol     object \n",
      " 2   Adj Close  float64\n",
      " 3   Close      float64\n",
      " 4   High       float64\n",
      " 5   Low        float64\n",
      " 6   Open       float64\n",
      " 7   Volume     float64\n",
      "dtypes: float64(6), object(2)\n",
      "memory usage: 115.5+ MB\n",
      "None\n"
     ]
    },
    {
     "name": "stderr",
     "output_type": "stream",
     "text": [
      "/usr/local/lib/python3.10/dist-packages/pandas/io/formats/format.py:1458: RuntimeWarning: invalid value encountered in greater\n",
      "  has_large_values = (abs_vals > 1e6).any()\n",
      "/usr/local/lib/python3.10/dist-packages/pandas/io/formats/format.py:1459: RuntimeWarning: invalid value encountered in less\n",
      "  has_small_values = ((abs_vals < 10 ** (-self.digits)) & (abs_vals > 0)).any()\n",
      "/usr/local/lib/python3.10/dist-packages/pandas/io/formats/format.py:1459: RuntimeWarning: invalid value encountered in greater\n",
      "  has_small_values = ((abs_vals < 10 ** (-self.digits)) & (abs_vals > 0)).any()\n"
     ]
    },
    {
     "name": "stdout",
     "output_type": "stream",
     "text": [
      "           Adj Close          Close           High            Low  \\\n",
      "count  617831.000000  617831.000000  617831.000000  617831.000000   \n",
      "mean       79.672357      87.471540      88.417844      86.480997   \n",
      "std       102.742931     104.521901     105.684113     103.300770   \n",
      "min         0.203593       0.222000       0.226250       0.216250   \n",
      "25%        26.572459      32.700001      33.060001      32.299999   \n",
      "50%        49.821613      59.139999      59.720001      58.500000   \n",
      "75%        94.831036     105.019997     106.129997     103.889999   \n",
      "max      1702.530029    1702.530029    1714.750000    1696.900024   \n",
      "\n",
      "                Open        Volume  \n",
      "count  617831.000000  6.178310e+05  \n",
      "mean       87.460302  9.347125e+06  \n",
      "std       104.519845  4.771669e+07  \n",
      "min         0.218000  0.000000e+00  \n",
      "25%        32.689999  1.144000e+06  \n",
      "50%        59.119999  2.453400e+06  \n",
      "75%       105.000000  5.657850e+06  \n",
      "max      1706.400024  3.692928e+09  \n"
     ]
    }
   ],
   "source": [
    "# Explore the stocks DataFrame\n",
    "print(\"Stocks DataFrame:\")\n",
    "print(stocks_df.head())      # Preview first 5 rows\n",
    "print(stocks_df.info())      # Overview of the DataFrame structure\n",
    "print(stocks_df.describe())  # Summary statistics for numeric columns"
   ]
  },
  {
   "cell_type": "code",
   "execution_count": 4,
   "id": "bf7c12b6",
   "metadata": {
    "execution": {
     "iopub.execute_input": "2025-03-13T01:33:11.122215Z",
     "iopub.status.busy": "2025-03-13T01:33:11.121914Z",
     "iopub.status.idle": "2025-03-13T01:33:11.153990Z",
     "shell.execute_reply": "2025-03-13T01:33:11.152947Z"
    },
    "papermill": {
     "duration": 0.037847,
     "end_time": "2025-03-13T01:33:11.156297",
     "exception": false,
     "start_time": "2025-03-13T01:33:11.118450",
     "status": "completed"
    },
    "tags": []
   },
   "outputs": [
    {
     "name": "stdout",
     "output_type": "stream",
     "text": [
      "\n",
      "Companies DataFrame:\n",
      "  Exchange Symbol              Shortname               Longname  \\\n",
      "0      NMS   AAPL             Apple Inc.             Apple Inc.   \n",
      "1      NMS   NVDA     NVIDIA Corporation     NVIDIA Corporation   \n",
      "2      NMS   MSFT  Microsoft Corporation  Microsoft Corporation   \n",
      "3      NMS   AMZN       Amazon.com, Inc.       Amazon.com, Inc.   \n",
      "4      NMS  GOOGL          Alphabet Inc.          Alphabet Inc.   \n",
      "\n",
      "                   Sector                        Industry  Currentprice  \\\n",
      "0              Technology            Consumer Electronics        254.49   \n",
      "1              Technology                  Semiconductors        134.70   \n",
      "2              Technology       Software - Infrastructure        436.60   \n",
      "3       Consumer Cyclical                 Internet Retail        224.92   \n",
      "4  Communication Services  Internet Content & Information        191.41   \n",
      "\n",
      "       Marketcap        Ebitda  Revenuegrowth           City State  \\\n",
      "0  3846819807232  1.346610e+11          0.061      Cupertino    CA   \n",
      "1  3298803056640  6.118400e+10          1.224    Santa Clara    CA   \n",
      "2  3246068596736  1.365520e+11          0.160        Redmond    WA   \n",
      "3  2365033807872  1.115830e+11          0.110        Seattle    WA   \n",
      "4  2351625142272  1.234700e+11          0.151  Mountain View    CA   \n",
      "\n",
      "         Country  Fulltimeemployees  \\\n",
      "0  United States           164000.0   \n",
      "1  United States            29600.0   \n",
      "2  United States           228000.0   \n",
      "3  United States          1551000.0   \n",
      "4  United States           181269.0   \n",
      "\n",
      "                                 Longbusinesssummary    Weight  \n",
      "0  Apple Inc. designs, manufactures, and markets ...  0.069209  \n",
      "1  NVIDIA Corporation provides graphics and compu...  0.059350  \n",
      "2  Microsoft Corporation develops and supports so...  0.058401  \n",
      "3  Amazon.com, Inc. engages in the retail sale of...  0.042550  \n",
      "4  Alphabet Inc. offers various products and plat...  0.042309  \n",
      "<class 'pandas.core.frame.DataFrame'>\n",
      "RangeIndex: 502 entries, 0 to 501\n",
      "Data columns (total 16 columns):\n",
      " #   Column               Non-Null Count  Dtype  \n",
      "---  ------               --------------  -----  \n",
      " 0   Exchange             502 non-null    object \n",
      " 1   Symbol               502 non-null    object \n",
      " 2   Shortname            502 non-null    object \n",
      " 3   Longname             502 non-null    object \n",
      " 4   Sector               502 non-null    object \n",
      " 5   Industry             502 non-null    object \n",
      " 6   Currentprice         502 non-null    float64\n",
      " 7   Marketcap            502 non-null    int64  \n",
      " 8   Ebitda               473 non-null    float64\n",
      " 9   Revenuegrowth        499 non-null    float64\n",
      " 10  City                 502 non-null    object \n",
      " 11  State                482 non-null    object \n",
      " 12  Country              502 non-null    object \n",
      " 13  Fulltimeemployees    493 non-null    float64\n",
      " 14  Longbusinesssummary  502 non-null    object \n",
      " 15  Weight               502 non-null    float64\n",
      "dtypes: float64(5), int64(1), object(10)\n",
      "memory usage: 62.9+ KB\n",
      "None\n",
      "       Currentprice     Marketcap        Ebitda  Revenuegrowth  \\\n",
      "count    502.000000  5.020000e+02  4.730000e+02     499.000000   \n",
      "mean     217.893685  1.107222e+11  7.045286e+09       0.070541   \n",
      "std      489.205027  3.440074e+11  1.624213e+10       0.180247   \n",
      "min        9.400000  4.664099e+09 -3.991000e+09      -0.602000   \n",
      "25%       68.547500  1.933417e+10  1.625000e+09       0.002000   \n",
      "50%      118.365000  3.706396e+10  2.952748e+09       0.051000   \n",
      "75%      227.667500  7.830565e+10  6.020000e+09       0.109000   \n",
      "max     8276.780000  3.846820e+12  1.495470e+11       1.632000   \n",
      "\n",
      "       Fulltimeemployees      Weight  \n",
      "count       4.930000e+02  502.000000  \n",
      "mean        5.782761e+04    0.001992  \n",
      "std         1.395988e+05    0.006189  \n",
      "min         2.800000e+01    0.000084  \n",
      "25%         1.020000e+04    0.000348  \n",
      "50%         2.169000e+04    0.000667  \n",
      "75%         5.510000e+04    0.001409  \n",
      "max         2.100000e+06    0.069209  \n"
     ]
    }
   ],
   "source": [
    "# Explore the companies DataFrame\n",
    "print(\"\\nCompanies DataFrame:\")\n",
    "print(companies_df.head())\n",
    "print(companies_df.info())\n",
    "print(companies_df.describe())"
   ]
  },
  {
   "cell_type": "code",
   "execution_count": 5,
   "id": "b87e0cb1",
   "metadata": {
    "execution": {
     "iopub.execute_input": "2025-03-13T01:33:11.163589Z",
     "iopub.status.busy": "2025-03-13T01:33:11.163181Z",
     "iopub.status.idle": "2025-03-13T01:33:11.183138Z",
     "shell.execute_reply": "2025-03-13T01:33:11.181260Z"
    },
    "papermill": {
     "duration": 0.025542,
     "end_time": "2025-03-13T01:33:11.185007",
     "exception": false,
     "start_time": "2025-03-13T01:33:11.159465",
     "status": "completed"
    },
    "tags": []
   },
   "outputs": [
    {
     "name": "stdout",
     "output_type": "stream",
     "text": [
      "\n",
      "Index DataFrame:\n",
      "         Date   S&P500\n",
      "0  2014-12-22  2078.54\n",
      "1  2014-12-23  2082.17\n",
      "2  2014-12-24  2081.88\n",
      "3  2014-12-26  2088.77\n",
      "4  2014-12-29  2090.57\n",
      "<class 'pandas.core.frame.DataFrame'>\n",
      "RangeIndex: 2517 entries, 0 to 2516\n",
      "Data columns (total 2 columns):\n",
      " #   Column  Non-Null Count  Dtype  \n",
      "---  ------  --------------  -----  \n",
      " 0   Date    2517 non-null   object \n",
      " 1   S&P500  2517 non-null   float64\n",
      "dtypes: float64(1), object(1)\n",
      "memory usage: 39.5+ KB\n",
      "None\n",
      "            S&P500\n",
      "count  2517.000000\n",
      "mean   3346.351605\n",
      "std    1078.204274\n",
      "min    1829.080000\n",
      "25%    2428.370000\n",
      "50%    2999.910000\n",
      "75%    4199.120000\n",
      "max    6090.270000\n"
     ]
    }
   ],
   "source": [
    "# Explore the index DataFrame\n",
    "print(\"\\nIndex DataFrame:\")\n",
    "print(index_df.head())\n",
    "print(index_df.info())\n",
    "print(index_df.describe())"
   ]
  },
  {
   "cell_type": "code",
   "execution_count": 6,
   "id": "192865b2",
   "metadata": {
    "execution": {
     "iopub.execute_input": "2025-03-13T01:33:11.191949Z",
     "iopub.status.busy": "2025-03-13T01:33:11.191597Z",
     "iopub.status.idle": "2025-03-13T01:33:11.599224Z",
     "shell.execute_reply": "2025-03-13T01:33:11.598015Z"
    },
    "papermill": {
     "duration": 0.41324,
     "end_time": "2025-03-13T01:33:11.601226",
     "exception": false,
     "start_time": "2025-03-13T01:33:11.187986",
     "status": "completed"
    },
    "tags": []
   },
   "outputs": [
    {
     "data": {
      "image/png": "[encoded data removed]",
      "text/plain": [
       "<Figure size 1000x600 with 1 Axes>"
      ]
     },
     "metadata": {},
     "output_type": "display_data"
    }
   ],
   "source": [
    "import pandas as pd\n",
    "import matplotlib.pyplot as plt\n",
    "\n",
    "# Assume index_df is already loaded\n",
    "# For example:\n",
    "# index_df = pd.read_csv('/kaggle/input/sp-500-stocks/sp500_index.csv')\n",
    "\n",
    "# 1. Convert 'Date' column to datetime\n",
    "index_df['Date'] = pd.to_datetime(index_df['Date'])\n",
    "\n",
    "# 2. Plot the data\n",
    "plt.figure(figsize=(10, 6))\n",
    "plt.plot(index_df['Date'], index_df['S&P500'], label='S&P 500')\n",
    "\n",
    "# 3. Label axes and title\n",
    "plt.xlabel('Date')\n",
    "plt.ylabel('S&P 500 Index Level')\n",
    "plt.title('S&P 500 Over Time')\n",
    "plt.legend()\n",
    "\n",
    "# 4. Display the plot\n",
    "plt.show()"
   ]
  },
  {
   "cell_type": "code",
   "execution_count": null,
   "id": "c8db3a74",
   "metadata": {
    "papermill": {
     "duration": 0.003801,
     "end_time": "2025-03-13T01:33:11.609294",
     "exception": false,
     "start_time": "2025-03-13T01:33:11.605493",
     "status": "completed"
    },
    "tags": []
   },
   "outputs": [],
   "source": []
  }
 ],
 "metadata": {
  "kaggle": {
   "accelerator": "none",
   "dataSources": [
    {
     "datasetId": 1807380,
     "sourceId": 10273516,
     "sourceType": "datasetVersion"
    }
   ],
   "dockerImageVersionId": 30918,
   "isGpuEnabled": false,
   "isInternetEnabled": true,
   "language": "python",
   "sourceType": "notebook"
  },
  "kernelspec": {
   "display_name": "Python 3",
   "language": "python",
   "name": "python3"
  },
  "language_info": {
   "codemirror_mode": {
    "name": "ipython",
    "version": 3
   },
   "file_extension": ".py",
   "mimetype": "text/x-python",
   "name": "python",
   "nbconvert_exporter": "python",
   "pygments_lexer": "ipython3",
   "version": "3.10.12"
  },
  "papermill": {
   "default_parameters": {},
   "duration": 8.005093,
   "end_time": "2025-03-13T01:33:12.234911",
   "environment_variables": {},
   "exception": null,
   "input_path": "__notebook__.ipynb",
   "output_path": "__notebook__.ipynb",
   "parameters": {},
   "start_time": "2025-03-13T01:33:04.229818",
   "version": "2.6.0"
  }
 },
 "nbformat": 4,
 "nbformat_minor": 5
}
