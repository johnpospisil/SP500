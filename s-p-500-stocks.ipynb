{
 "cells": [
  {
   "cell_type": "markdown",
   "id": "6c942011",
   "metadata": {
    "papermill": {
     "duration": 0.002835,
     "end_time": "2025-03-15T02:32:11.628721",
     "exception": false,
     "start_time": "2025-03-15T02:32:11.625886",
     "status": "completed"
    },
    "tags": []
   },
   "source": [
    "# S&P 500 - EDA and Modeling"
   ]
  },
  {
   "cell_type": "markdown",
   "id": "f4b0f423",
   "metadata": {
    "execution": {
     "iopub.execute_input": "2025-03-14T15:18:47.072985Z",
     "iopub.status.busy": "2025-03-14T15:18:47.072704Z",
     "iopub.status.idle": "2025-03-14T15:18:47.089763Z",
     "shell.execute_reply": "2025-03-14T15:18:47.088248Z",
     "shell.execute_reply.started": "2025-03-14T15:18:47.072963Z"
    },
    "papermill": {
     "duration": 0.001734,
     "end_time": "2025-03-15T02:32:11.635694",
     "exception": false,
     "start_time": "2025-03-15T02:32:11.633960",
     "status": "completed"
    },
    "tags": []
   },
   "source": [
    "There’s a lot you can do with a time series like this one (daily S&P 500 index values). Below are some common ideas and approaches:\n",
    "\n",
    "---\n",
    "\n",
    "## 1. Data Cleaning and Preparation\n",
    "\n",
    "- **Check for missing values**: Real-world time series often have missing data (e.g., weekends or holidays if you have daily financial data). Make sure you account for non-trading days or fill the data in a consistent way.\n",
    "- **Resampling**: If you need a specific frequency (e.g., weekly or monthly), you can resample daily data. For instance:\n",
    "  ```python\n",
    "  # Resample to monthly frequency, taking the last value of each month\n",
    "  monthly_data = index_df.resample('M', on='Date').last()\n",
    "  ```\n",
    "  \n",
    "---\n",
    "\n",
    "## 2. Visualization\n",
    "\n",
    "- **Line Plot**: The simplest plot to see the overall trend, which you’ve already done.\n",
    "- **Moving Averages**: Compute short-term (e.g., 20-day) or long-term (e.g., 50-day, 200-day) rolling means to see how the index behaves over time.\n",
    "  ```python\n",
    "  index_df['MA_20'] = index_df['S&P500'].rolling(window=20).mean()\n",
    "  index_df['MA_50'] = index_df['S&P500'].rolling(window=50).mean()\n",
    "  ```\n",
    "  Then plot them on top of the original series to visualize trends and smoothing.\n",
    "\n",
    "---\n",
    "\n",
    "## 3. Stationarity Testing and Detrending\n",
    "\n",
    "For many forecasting models (ARIMA, SARIMA, etc.), it’s useful to have a stationary series:\n",
    "\n",
    "- **Stationarity Tests**: Use the **Augmented Dickey-Fuller (ADF)** test or **KPSS** test to check if the series is stationary (i.e., mean and variance do not change over time).\n",
    "  ```python\n",
    "  from statsmodels.tsa.stattools import adfuller\n",
    "  \n",
    "  result = adfuller(index_df['S&P500'].dropna())\n",
    "  print('ADF Statistic:', result[0])\n",
    "  print('p-value:', result[1])\n",
    "  ```\n",
    "- **Differencing**: If the series isn’t stationary, you can difference it:\n",
    "  ```python\n",
    "  index_df['diff'] = index_df['S&P500'].diff()\n",
    "  ```\n",
    "  This often helps remove trends.\n",
    "\n",
    "---\n",
    "\n",
    "## 4. Decomposition\n",
    "\n",
    "You can break the series into **trend, seasonality, and residual** components:\n",
    "\n",
    "```python\n",
    "import statsmodels.api as sm\n",
    "\n",
    "# Convert 'Date' column to datetime if not already done\n",
    "index_df['Date'] = pd.to_datetime(index_df['Date'])\n",
    "index_df.set_index('Date', inplace=True)\n",
    "\n",
    "decomposition = sm.tsa.seasonal_decompose(index_df['S&P500'], model='additive')\n",
    "decomposition.plot()\n",
    "```\n",
    "\n",
    "This helps visualize if there’s a strong trend or seasonal pattern (though the S&P 500 daily data typically has more cyclical or irregular patterns than strict seasonality).\n",
    "\n",
    "---\n",
    "\n",
    "## 5. Auto-Correlation Analysis\n",
    "\n",
    "- **Autocorrelation Function (ACF)** and **Partial Autocorrelation Function (PACF)** plots help you understand the correlation of the series with its own lags, which is useful for selecting ARIMA parameters.\n",
    "  ```python\n",
    "  from statsmodels.graphics.tsaplots import plot_acf, plot_pacf\n",
    "\n",
    "  plot_acf(index_df['S&P500'].dropna(), lags=30)\n",
    "  plot_pacf(index_df['S&P500'].dropna(), lags=30)\n",
    "  plt.show()\n",
    "  ```\n",
    "\n",
    "---\n",
    "\n",
    "## 6. Time Series Modeling and Forecasting\n",
    "\n",
    "### ARIMA / SARIMA Models\n",
    "\n",
    "- **ARIMA** (AutoRegressive Integrated Moving Average) is a classic model for time series forecasting.\n",
    "- **SARIMA** (Seasonal ARIMA) extends ARIMA to handle seasonality explicitly, though daily stock data seasonality is often driven by business cycles rather than a weekly or monthly pattern.\n",
    "\n",
    "Example ARIMA approach:\n",
    "```python\n",
    "from statsmodels.tsa.arima.model import ARIMA\n",
    "\n",
    "# Assuming stationarity or after differencing\n",
    "model = ARIMA(index_df['S&P500'], order=(p, d, q))  # Choose p, d, q based on ACF/PACF\n",
    "model_fit = model.fit()\n",
    "forecast = model_fit.forecast(steps=30)  # Forecast 30 days\n",
    "print(forecast)\n",
    "```\n",
    "\n",
    "### Other Approaches\n",
    "\n",
    "- **VAR (Vector Autoregression)**: If you have multiple time series (e.g., S&P 500, interest rates, other indexes), you can model them together.\n",
    "- **State-Space Models** (e.g., **Kalman Filter**): More advanced technique for time-varying processes.\n",
    "- **Machine Learning Models** (e.g., **Random Forest**, **XGBoost**, **LSTM neural networks**): You can frame this as a supervised learning problem with features (lags, technical indicators, external data) predicting future values.\n",
    "\n",
    "---\n",
    "\n",
    "## 7. Performance Evaluation\n",
    "\n",
    "After you build a model, you’ll want to evaluate it:\n",
    "- **Train-Test Split**: Split your time series into a training set (e.g., first 80%) and a test set (last 20%). \n",
    "- **Rolling Forecast Origin** or **Walk-Forward Validation**: More robust way to simulate how a model performs over time.\n",
    "- **Error Metrics**: Compute metrics like **RMSE**, **MAE**, or **MAPE** to see how well your forecasts match actual data.\n",
    "\n",
    "---\n",
    "\n",
    "## 8. Feature Engineering\n",
    "\n",
    "For more advanced modeling, you might engineer additional features:\n",
    "- **Returns**: Daily returns, log returns, etc.\n",
    "- **Volatility Measures**: Rolling standard deviation.\n",
    "- **Market Indicators**: If you have data on volumes, sentiment, or macroeconomic indicators, you can incorporate these into predictive models.\n",
    "\n",
    "---\n",
    "\n",
    "## 9. Correlation with Other Indicators\n",
    "\n",
    "You could also look at how the S&P 500 correlates with:\n",
    "- Other stock indices (NASDAQ, Dow Jones, etc.).\n",
    "- Macroeconomic variables (unemployment rates, interest rates, etc.).\n",
    "- Sentiment or news data.\n",
    "\n",
    "---\n",
    "\n",
    "### Summary\n",
    "\n",
    "With time series data like the S&P 500, you can do a lot more than just plotting. From decomposing trends and testing stationarity to building sophisticated forecasting models and evaluating their performance, there’s a wide range of techniques. The best path depends on your specific goals—whether it’s short-term trading signals, long-term forecasting, or explanatory analysis of what drives market movements."
   ]
  },
  {
   "cell_type": "code",
   "execution_count": 1,
   "id": "bf8065b8",
   "metadata": {
    "_cell_guid": "b1076dfc-b9ad-4769-8c92-a6c4dae69d19",
    "_uuid": "8f2839f25d086af736a60e9eeb907d3b93b6e0e5",
    "execution": {
     "iopub.execute_input": "2025-03-15T02:32:11.641122Z",
     "iopub.status.busy": "2025-03-15T02:32:11.640729Z",
     "iopub.status.idle": "2025-03-15T02:32:12.774055Z",
     "shell.execute_reply": "2025-03-15T02:32:12.773031Z"
    },
    "papermill": {
     "duration": 1.1379,
     "end_time": "2025-03-15T02:32:12.775626",
     "exception": false,
     "start_time": "2025-03-15T02:32:11.637726",
     "status": "completed"
    },
    "tags": []
   },
   "outputs": [
    {
     "name": "stdout",
     "output_type": "stream",
     "text": [
      "/kaggle/input/sp-500-stocks/sp500_stocks.csv\n",
      "/kaggle/input/sp-500-stocks/sp500_companies.csv\n",
      "/kaggle/input/sp-500-stocks/sp500_index.csv\n"
     ]
    }
   ],
   "source": [
    "# This Python 3 environment comes with many helpful analytics libraries installed\n",
    "# It is defined by the kaggle/python Docker image: https://github.com/kaggle/docker-python\n",
    "# For example, here's several helpful packages to load\n",
    "\n",
    "import numpy as np # linear algebra\n",
    "import pandas as pd # data processing, CSV file I/O (e.g. pd.read_csv)\n",
    "\n",
    "# Input data files are available in the read-only \"../input/\" directory\n",
    "# For example, running this (by clicking run or pressing Shift+Enter) will list all files under the input directory\n",
    "\n",
    "import os\n",
    "for dirname, _, filenames in os.walk('/kaggle/input'):\n",
    "    for filename in filenames:\n",
    "        print(os.path.join(dirname, filename))\n",
    "\n",
    "# You can write up to 20GB to the current directory (/kaggle/working/) that gets preserved as output when you create a version using \"Save & Run All\" \n",
    "# You can also write temporary files to /kaggle/temp/, but they won't be saved outside of the current session"
   ]
  },
  {
   "cell_type": "code",
   "execution_count": 2,
   "id": "58ac3019",
   "metadata": {
    "execution": {
     "iopub.execute_input": "2025-03-15T02:32:12.781289Z",
     "iopub.status.busy": "2025-03-15T02:32:12.780801Z",
     "iopub.status.idle": "2025-03-15T02:32:14.980843Z",
     "shell.execute_reply": "2025-03-15T02:32:14.979920Z"
    },
    "papermill": {
     "duration": 2.204433,
     "end_time": "2025-03-15T02:32:14.982545",
     "exception": false,
     "start_time": "2025-03-15T02:32:12.778112",
     "status": "completed"
    },
    "tags": []
   },
   "outputs": [],
   "source": [
    "import pandas as pd\n",
    "\n",
    "# Load the CSV files into DataFrames\n",
    "stocks_df = pd.read_csv('/kaggle/input/sp-500-stocks/sp500_stocks.csv')\n",
    "companies_df = pd.read_csv('/kaggle/input/sp-500-stocks/sp500_companies.csv')\n",
    "index_df = pd.read_csv('/kaggle/input/sp-500-stocks/sp500_index.csv')"
   ]
  },
  {
   "cell_type": "code",
   "execution_count": 3,
   "id": "e17d8ab3",
   "metadata": {
    "execution": {
     "iopub.execute_input": "2025-03-15T02:32:14.987940Z",
     "iopub.status.busy": "2025-03-15T02:32:14.987677Z",
     "iopub.status.idle": "2025-03-15T02:32:15.034484Z",
     "shell.execute_reply": "2025-03-15T02:32:15.033242Z"
    },
    "papermill": {
     "duration": 0.050939,
     "end_time": "2025-03-15T02:32:15.035971",
     "exception": false,
     "start_time": "2025-03-15T02:32:14.985032",
     "status": "completed"
    },
    "tags": []
   },
   "outputs": [
    {
     "name": "stdout",
     "output_type": "stream",
     "text": [
      "\n",
      "Index DataFrame:\n",
      "         Date   S&P500\n",
      "0  2014-12-22  2078.54\n",
      "1  2014-12-23  2082.17\n",
      "2  2014-12-24  2081.88\n",
      "3  2014-12-26  2088.77\n",
      "4  2014-12-29  2090.57\n",
      "<class 'pandas.core.frame.DataFrame'>\n",
      "RangeIndex: 2517 entries, 0 to 2516\n",
      "Data columns (total 2 columns):\n",
      " #   Column  Non-Null Count  Dtype  \n",
      "---  ------  --------------  -----  \n",
      " 0   Date    2517 non-null   object \n",
      " 1   S&P500  2517 non-null   float64\n",
      "dtypes: float64(1), object(1)\n",
      "memory usage: 39.5+ KB\n",
      "None\n",
      "            S&P500\n",
      "count  2517.000000\n",
      "mean   3346.351605\n",
      "std    1078.204274\n",
      "min    1829.080000\n",
      "25%    2428.370000\n",
      "50%    2999.910000\n",
      "75%    4199.120000\n",
      "max    6090.270000\n"
     ]
    }
   ],
   "source": [
    "# Explore the index DataFrame\n",
    "print(\"\\nIndex DataFrame:\")\n",
    "print(index_df.head())\n",
    "print(index_df.info())\n",
    "print(index_df.describe())"
   ]
  },
  {
   "cell_type": "markdown",
   "id": "c49cae51",
   "metadata": {
    "papermill": {
     "duration": 0.001925,
     "end_time": "2025-03-15T02:32:15.040374",
     "exception": false,
     "start_time": "2025-03-15T02:32:15.038449",
     "status": "completed"
    },
    "tags": []
   },
   "source": [
    "This code converts the 'Date' column into datetime format and sets it as the DataFrame's index, enabling time-based operations. Then, it creates a complete range of business days over the data's time span, reindexes the DataFrame to include these days (inserting missing values for non-trading days), and fills the gaps using forward-fill."
   ]
  },
  {
   "cell_type": "code",
   "execution_count": 4,
   "id": "adc0f6e9",
   "metadata": {
    "execution": {
     "iopub.execute_input": "2025-03-15T02:32:15.045562Z",
     "iopub.status.busy": "2025-03-15T02:32:15.045301Z",
     "iopub.status.idle": "2025-03-15T02:32:15.091595Z",
     "shell.execute_reply": "2025-03-15T02:32:15.090710Z"
    },
    "papermill": {
     "duration": 0.050905,
     "end_time": "2025-03-15T02:32:15.093332",
     "exception": false,
     "start_time": "2025-03-15T02:32:15.042427",
     "status": "completed"
    },
    "tags": []
   },
   "outputs": [],
   "source": [
    "import pandas as pd\n",
    "\n",
    "# Sample DataFrame (index_df) with 'Date' and 'S&P500' columns\n",
    "# index_df = pd.read_csv('/kaggle/input/sp-500-stocks/sp500_index.csv')\n",
    "\n",
    "# 1. Convert 'Date' to datetime\n",
    "index_df['Date'] = pd.to_datetime(index_df['Date'])\n",
    "\n",
    "# 2. Set 'Date' as the index\n",
    "index_df.set_index('Date', inplace=True)\n",
    "\n",
    "# 3. Create a full range of business days from the earliest to latest date in the dataset\n",
    "all_business_days = pd.date_range(start=index_df.index.min(), \n",
    "                                  end=index_df.index.max(), \n",
    "                                  freq='B')  # 'B' for business days\n",
    "\n",
    "# 4. Reindex to this new date range, introducing missing values for days that weren't in the original data\n",
    "index_df = index_df.reindex(all_business_days)\n",
    "\n",
    "# 5. Fill missing values (e.g., forward fill) using .ffill() assignment\n",
    "index_df['S&P500'] = index_df['S&P500'].ffill()\n",
    "\n",
    "# Now index_df has a row for every business day, and non-trading days have been forward-filled."
   ]
  },
  {
   "cell_type": "code",
   "execution_count": 5,
   "id": "c49566b4",
   "metadata": {
    "execution": {
     "iopub.execute_input": "2025-03-15T02:32:15.099350Z",
     "iopub.status.busy": "2025-03-15T02:32:15.099011Z",
     "iopub.status.idle": "2025-03-15T02:32:15.115966Z",
     "shell.execute_reply": "2025-03-15T02:32:15.115111Z"
    },
    "papermill": {
     "duration": 0.021877,
     "end_time": "2025-03-15T02:32:15.117804",
     "exception": false,
     "start_time": "2025-03-15T02:32:15.095927",
     "status": "completed"
    },
    "tags": []
   },
   "outputs": [
    {
     "data": {
      "text/html": [
       "<div>\n",
       "<style scoped>\n",
       "    .dataframe tbody tr th:only-of-type {\n",
       "        vertical-align: middle;\n",
       "    }\n",
       "\n",
       "    .dataframe tbody tr th {\n",
       "        vertical-align: top;\n",
       "    }\n",
       "\n",
       "    .dataframe thead th {\n",
       "        text-align: right;\n",
       "    }\n",
       "</style>\n",
       "<table border=\"1\" class=\"dataframe\">\n",
       "  <thead>\n",
       "    <tr style=\"text-align: right;\">\n",
       "      <th></th>\n",
       "      <th>S&amp;P500</th>\n",
       "    </tr>\n",
       "  </thead>\n",
       "  <tbody>\n",
       "    <tr>\n",
       "      <th>2014-12-22</th>\n",
       "      <td>2078.54</td>\n",
       "    </tr>\n",
       "    <tr>\n",
       "      <th>2014-12-23</th>\n",
       "      <td>2082.17</td>\n",
       "    </tr>\n",
       "    <tr>\n",
       "      <th>2014-12-24</th>\n",
       "      <td>2081.88</td>\n",
       "    </tr>\n",
       "    <tr>\n",
       "      <th>2014-12-25</th>\n",
       "      <td>2081.88</td>\n",
       "    </tr>\n",
       "    <tr>\n",
       "      <th>2014-12-26</th>\n",
       "      <td>2088.77</td>\n",
       "    </tr>\n",
       "    <tr>\n",
       "      <th>2014-12-29</th>\n",
       "      <td>2090.57</td>\n",
       "    </tr>\n",
       "    <tr>\n",
       "      <th>2014-12-30</th>\n",
       "      <td>2080.35</td>\n",
       "    </tr>\n",
       "    <tr>\n",
       "      <th>2014-12-31</th>\n",
       "      <td>2058.90</td>\n",
       "    </tr>\n",
       "    <tr>\n",
       "      <th>2015-01-01</th>\n",
       "      <td>2058.90</td>\n",
       "    </tr>\n",
       "    <tr>\n",
       "      <th>2015-01-02</th>\n",
       "      <td>2058.20</td>\n",
       "    </tr>\n",
       "    <tr>\n",
       "      <th>2015-01-05</th>\n",
       "      <td>2020.58</td>\n",
       "    </tr>\n",
       "    <tr>\n",
       "      <th>2015-01-06</th>\n",
       "      <td>2002.61</td>\n",
       "    </tr>\n",
       "    <tr>\n",
       "      <th>2015-01-07</th>\n",
       "      <td>2025.90</td>\n",
       "    </tr>\n",
       "    <tr>\n",
       "      <th>2015-01-08</th>\n",
       "      <td>2062.14</td>\n",
       "    </tr>\n",
       "    <tr>\n",
       "      <th>2015-01-09</th>\n",
       "      <td>2044.81</td>\n",
       "    </tr>\n",
       "    <tr>\n",
       "      <th>2015-01-12</th>\n",
       "      <td>2028.26</td>\n",
       "    </tr>\n",
       "    <tr>\n",
       "      <th>2015-01-13</th>\n",
       "      <td>2023.03</td>\n",
       "    </tr>\n",
       "    <tr>\n",
       "      <th>2015-01-14</th>\n",
       "      <td>2011.27</td>\n",
       "    </tr>\n",
       "    <tr>\n",
       "      <th>2015-01-15</th>\n",
       "      <td>1992.67</td>\n",
       "    </tr>\n",
       "    <tr>\n",
       "      <th>2015-01-16</th>\n",
       "      <td>2019.42</td>\n",
       "    </tr>\n",
       "  </tbody>\n",
       "</table>\n",
       "</div>"
      ],
      "text/plain": [
       "             S&P500\n",
       "2014-12-22  2078.54\n",
       "2014-12-23  2082.17\n",
       "2014-12-24  2081.88\n",
       "2014-12-25  2081.88\n",
       "2014-12-26  2088.77\n",
       "2014-12-29  2090.57\n",
       "2014-12-30  2080.35\n",
       "2014-12-31  2058.90\n",
       "2015-01-01  2058.90\n",
       "2015-01-02  2058.20\n",
       "2015-01-05  2020.58\n",
       "2015-01-06  2002.61\n",
       "2015-01-07  2025.90\n",
       "2015-01-08  2062.14\n",
       "2015-01-09  2044.81\n",
       "2015-01-12  2028.26\n",
       "2015-01-13  2023.03\n",
       "2015-01-14  2011.27\n",
       "2015-01-15  1992.67\n",
       "2015-01-16  2019.42"
      ]
     },
     "execution_count": 5,
     "metadata": {},
     "output_type": "execute_result"
    }
   ],
   "source": [
    "index_df.head(20)"
   ]
  },
  {
   "cell_type": "code",
   "execution_count": 6,
   "id": "20f7e9d6",
   "metadata": {
    "execution": {
     "iopub.execute_input": "2025-03-15T02:32:15.124449Z",
     "iopub.status.busy": "2025-03-15T02:32:15.124157Z",
     "iopub.status.idle": "2025-03-15T02:32:15.442038Z",
     "shell.execute_reply": "2025-03-15T02:32:15.441071Z"
    },
    "papermill": {
     "duration": 0.322835,
     "end_time": "2025-03-15T02:32:15.443766",
     "exception": false,
     "start_time": "2025-03-15T02:32:15.120931",
     "status": "completed"
    },
    "tags": []
   },
   "outputs": [
    {
     "data": {
      "image/png": "[encoded data removed]",
      "text/plain": [
       "<Figure size 1000x600 with 1 Axes>"
      ]
     },
     "metadata": {},
     "output_type": "display_data"
    }
   ],
   "source": [
    "import pandas as pd\n",
    "import matplotlib.pyplot as plt\n",
    "\n",
    "# Assume index_df is already loaded and 'Date' is its index\n",
    "index_df.index = pd.to_datetime(index_df.index)\n",
    "\n",
    "plt.figure(figsize=(10, 6))\n",
    "plt.plot(index_df.index, index_df['S&P500'], label='S&P 500')\n",
    "\n",
    "plt.xlabel('Date')\n",
    "plt.ylabel('S&P 500 Index Level')\n",
    "plt.title('S&P 500 Over Time')\n",
    "plt.legend()\n",
    "\n",
    "plt.show()"
   ]
  },
  {
   "cell_type": "code",
   "execution_count": null,
   "id": "26ce1c08",
   "metadata": {
    "papermill": {
     "duration": 0.003054,
     "end_time": "2025-03-15T02:32:15.450505",
     "exception": false,
     "start_time": "2025-03-15T02:32:15.447451",
     "status": "completed"
    },
    "tags": []
   },
   "outputs": [],
   "source": []
  }
 ],
 "metadata": {
  "kaggle": {
   "accelerator": "none",
   "dataSources": [
    {
     "datasetId": 1807380,
     "sourceId": 10273516,
     "sourceType": "datasetVersion"
    }
   ],
   "dockerImageVersionId": 30918,
   "isGpuEnabled": false,
   "isInternetEnabled": true,
   "language": "python",
   "sourceType": "notebook"
  },
  "kernelspec": {
   "display_name": "Python 3",
   "language": "python",
   "name": "python3"
  },
  "language_info": {
   "codemirror_mode": {
    "name": "ipython",
    "version": 3
   },
   "file_extension": ".py",
   "mimetype": "text/x-python",
   "name": "python",
   "nbconvert_exporter": "python",
   "pygments_lexer": "ipython3",
   "version": "3.10.12"
  },
  "papermill": {
   "default_parameters": {},
   "duration": 6.694489,
   "end_time": "2025-03-15T02:32:15.973106",
   "environment_variables": {},
   "exception": null,
   "input_path": "__notebook__.ipynb",
   "output_path": "__notebook__.ipynb",
   "parameters": {},
   "start_time": "2025-03-15T02:32:09.278617",
   "version": "2.6.0"
  }
 },
 "nbformat": 4,
 "nbformat_minor": 5
}
